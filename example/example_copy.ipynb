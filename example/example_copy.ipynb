{
 "cells": [
  {
   "cell_type": "code",
   "execution_count": 1,
   "metadata": {},
   "outputs": [],
   "source": [
    "import os\n",
    "import random\n",
    "from comer.datamodule import vocab\n",
    "from comer.lit_comer import LitCoMER\n",
    "from torchvision.transforms import ToTensor\n",
    "import torch\n",
    "from PIL import Image, ImageEnhance\n",
    "from IPython.display import display\n",
    "import PIL.ImageOps\n",
    "\n",
    "ckpt = \"../lightning_logs/version_0/checkpoints/epoch=151-step=57151-val_ExpRate=0.6365.ckpt\"\n",
    "model = LitCoMER.load_from_checkpoint(ckpt)\n",
    "model = model.eval()\n",
    "device = torch.device(\"cpu\")\n",
    "model = model.to(device)"
   ]
  },
  {
   "cell_type": "code",
   "execution_count": 3,
   "metadata": {},
   "outputs": [
    {
     "name": "stdout",
     "output_type": "stream",
     "text": [
      "train_43197.jpg\n"
     ]
    },
    {
     "data": {
      "image/png": "[encoded data removed]",
      "text/plain": [
       "<PIL.JpegImagePlugin.JpegImageFile image mode=L size=62x50>"
      ]
     },
     "metadata": {},
     "output_type": "display_data"
    }
   ],
   "source": [
    "# x = random.choice(os.listdir(\"/home/jerry/ocr-for-edu/math-ocr/fine1/fine_images/\"))\n",
    "x=\"train_43197.jpg\"\n",
    "img = Image.open(f\"/home/jerry/ocr-for-edu/math-ocr/fine1/fine_images/{x}\")\n",
    "img.thumbnail((256, 256), Image.Resampling.LANCZOS)\n",
    "print(x)\n",
    "display(img)"
   ]
  },
  {
   "cell_type": "code",
   "execution_count": 4,
   "metadata": {},
   "outputs": [
    {
     "name": "stderr",
     "output_type": "stream",
     "text": [
      "/home/jerry/ocr-for-edu/math-ocr/CoMER/comer/utils/generation_utils.py:206: UserWarning: __floordiv__ is deprecated, and its behavior will change in a future version of pytorch. It currently rounds toward 0 (like the 'trunc' function NOT 'floor'). This results in incorrect rounding for negative values. To keep the current behavior, use torch.div(a, b, rounding_mode='trunc'), or for actual floor division, use torch.div(a, b, rounding_mode='floor').\n",
      "  next_indices = next_tokens // vocab_size\n"
     ]
    }
   ],
   "source": [
    "img2 = ToTensor()(img)\n",
    "mask = torch.zeros_like(img2, dtype=torch.bool)\n",
    "hyp = model.approximate_joint_search(img2.unsqueeze(0), mask)[0]\n",
    "pred_latex = vocab.indices2label(hyp.seq)\n",
    "print(pred_latex)"
   ]
  }
 ],
 "metadata": {
  "kernelspec": {
   "display_name": "Python 3.10.4 ('wOcr1')",
   "language": "python",
   "name": "python3"
  },
  "language_info": {
   "codemirror_mode": {
    "name": "ipython",
    "version": 3
   },
   "file_extension": ".py",
   "mimetype": "text/x-python",
   "name": "python",
   "nbconvert_exporter": "python",
   "pygments_lexer": "ipython3",
   "version": "3.10.4 (main, Mar 31 2022, 08:41:55) [GCC 7.5.0]"
  },
  "orig_nbformat": 4,
  "vscode": {
   "interpreter": {
    "hash": "652a5aa0243b0817a067141a4ded6cefb08299497ecd54ecd7ba4c31ce780af3"
   }
  }
 },
 "nbformat": 4,
 "nbformat_minor": 2
}
